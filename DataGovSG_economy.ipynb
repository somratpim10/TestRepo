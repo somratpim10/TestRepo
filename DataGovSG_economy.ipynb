{
  "cells": [
    {
      "cell_type": "markdown",
      "metadata": {
        "id": "P-23WQwM6L5Y"
      },
      "source": [
        "## Overview\n",
        "\n",
        "This Jupyter notebook makes it easy to :\n",
        "\n",
        "1. Get the dataset and column metadata programmatically\n",
        "2. Load CSV files automatically into a pandas dataframe so you can do the fun explorations"
      ]
    },
    {
      "cell_type": "markdown",
      "metadata": {
        "id": "HubDc48VPrjy"
      },
      "source": [
        "# Setup\n",
        "1. Paste the dataset ID you copied into the cell below\n",
        "2. Run All Cells (click `Runtime` -> `Run All`)"
      ]
    },
    {
      "cell_type": "code",
      "execution_count": 2,
      "metadata": {
        "id": "5z893zILP_4T"
      },
      "outputs": [],
      "source": [
        "DATASET_ID = \"PASTE_DATASET_ID_HERE\" # e.g. \"d_69b3380ad7e51aff3a7dcc84eba52b8a\""
      ]
    },
    {
      "cell_type": "markdown",
      "metadata": {
        "id": "c2JwHQABK-u_"
      },
      "source": [
        "## Dataset and Column Metadata"
      ]
    },
    {
      "cell_type": "code",
      "execution_count": 3,
      "metadata": {
        "colab": {
          "base_uri": "https://localhost:8080/",
          "height": 233
        },
        "id": "MmxOw9YXTWXI",
        "outputId": "a5b6c79a-99e8-4ff3-ecb4-fb9b2adbff6c"
      },
      "outputs": [
        {
          "output_type": "stream",
          "name": "stdout",
          "text": [
            "https://api-production.data.gov.sg/v2/public/api/datasets/PASTE_DATASET_ID_HERE/metadata\n"
          ]
        },
        {
          "output_type": "error",
          "ename": "KeyError",
          "evalue": "'data'",
          "traceback": [
            "\u001b[0;31m---------------------------------------------------------------------------\u001b[0m",
            "\u001b[0;31mKeyError\u001b[0m                                  Traceback (most recent call last)",
            "\u001b[0;32m/tmp/ipython-input-3-838024537.py\u001b[0m in \u001b[0;36m<cell line: 0>\u001b[0;34m()\u001b[0m\n\u001b[1;32m      8\u001b[0m \u001b[0mprint\u001b[0m\u001b[0;34m(\u001b[0m\u001b[0murl\u001b[0m\u001b[0;34m)\u001b[0m\u001b[0;34m\u001b[0m\u001b[0;34m\u001b[0m\u001b[0m\n\u001b[1;32m      9\u001b[0m \u001b[0mresponse\u001b[0m \u001b[0;34m=\u001b[0m \u001b[0ms\u001b[0m\u001b[0;34m.\u001b[0m\u001b[0mget\u001b[0m\u001b[0;34m(\u001b[0m\u001b[0murl\u001b[0m\u001b[0;34m)\u001b[0m\u001b[0;34m\u001b[0m\u001b[0;34m\u001b[0m\u001b[0m\n\u001b[0;32m---> 10\u001b[0;31m \u001b[0mdata\u001b[0m \u001b[0;34m=\u001b[0m \u001b[0mresponse\u001b[0m\u001b[0;34m.\u001b[0m\u001b[0mjson\u001b[0m\u001b[0;34m(\u001b[0m\u001b[0;34m)\u001b[0m\u001b[0;34m[\u001b[0m\u001b[0;34m'data'\u001b[0m\u001b[0;34m]\u001b[0m\u001b[0;34m\u001b[0m\u001b[0;34m\u001b[0m\u001b[0m\n\u001b[0m\u001b[1;32m     11\u001b[0m \u001b[0mcolumnMetadata\u001b[0m \u001b[0;34m=\u001b[0m \u001b[0mdata\u001b[0m\u001b[0;34m.\u001b[0m\u001b[0mpop\u001b[0m\u001b[0;34m(\u001b[0m\u001b[0;34m'columnMetadata'\u001b[0m\u001b[0;34m,\u001b[0m \u001b[0;32mNone\u001b[0m\u001b[0;34m)\u001b[0m\u001b[0;34m\u001b[0m\u001b[0;34m\u001b[0m\u001b[0m\n\u001b[1;32m     12\u001b[0m \u001b[0;34m\u001b[0m\u001b[0m\n",
            "\u001b[0;31mKeyError\u001b[0m: 'data'"
          ]
        }
      ],
      "source": [
        "import json\n",
        "import requests\n",
        "\n",
        "s = requests.Session()\n",
        "s.headers.update({'referer': 'https://colab.research.google.com'})\n",
        "base_url = \"https://api-production.data.gov.sg\"\n",
        "url = base_url + f\"/v2/public/api/datasets/{DATASET_ID}/metadata\"\n",
        "print(url)\n",
        "response = s.get(url)\n",
        "data = response.json()['data']\n",
        "columnMetadata = data.pop('columnMetadata', None)\n",
        "\n",
        "print(\"Dataset Metadata:\")\n",
        "print(json.dumps(data, indent=2))\n",
        "\n",
        "print(\"\\nColumns:\\n\", list(columnMetadata['map'].values()))\n"
      ]
    },
    {
      "cell_type": "markdown",
      "metadata": {
        "id": "bzeyNVeETY7O"
      },
      "source": [
        "## Download File"
      ]
    },
    {
      "cell_type": "code",
      "execution_count": null,
      "metadata": {
        "id": "BBX_y7k1tfRb"
      },
      "outputs": [],
      "source": [
        "import time\n",
        "import pandas as pd\n",
        "\n",
        "def download_file(DATASET_ID):\n",
        "  # initiate download\n",
        "  initiate_download_response = s.get(\n",
        "      f\"https://api-open.data.gov.sg/v1/public/api/datasets/{DATASET_ID}/initiate-download\",\n",
        "      headers={\"Content-Type\":\"application/json\"},\n",
        "      json={}\n",
        "  )\n",
        "  print(initiate_download_response.json()['data']['message'])\n",
        "\n",
        "  # poll download\n",
        "  MAX_POLLS = 5\n",
        "  for i in range(MAX_POLLS):\n",
        "    poll_download_response = s.get(\n",
        "        f\"https://api-open.data.gov.sg/v1/public/api/datasets/{DATASET_ID}/poll-download\",\n",
        "        headers={\"Content-Type\":\"application/json\"},\n",
        "        json={}\n",
        "    )\n",
        "    print(\"Poll download response:\", poll_download_response.json())\n",
        "    if \"url\" in poll_download_response.json()['data']:\n",
        "      print(poll_download_response.json()['data']['url'])\n",
        "      DOWNLOAD_URL = poll_download_response.json()['data']['url']\n",
        "      df = pd.read_csv(DOWNLOAD_URL)\n",
        "\n",
        "      display(df.head())\n",
        "      print(\"\\nDataframe loaded!\")\n",
        "      return df\n",
        "    if i == MAX_POLLS - 1:\n",
        "      print(f\"{i+1}/{MAX_POLLS}: No result found, possible error with dataset, please try again or let us know at https://go.gov.sg/datagov-supportform\\n\")\n",
        "    else:\n",
        "      print(f\"{i+1}/{MAX_POLLS}: No result yet, continuing to poll\\n\")\n",
        "    time.sleep(3)\n",
        "\n",
        "df = download_file(DATASET_ID)\n"
      ]
    },
    {
      "cell_type": "code",
      "execution_count": null,
      "metadata": {
        "id": "N8czZAt4Lo-H"
      },
      "outputs": [],
      "source": [
        "df.describe()"
      ]
    },
    {
      "cell_type": "code",
      "execution_count": null,
      "metadata": {
        "id": "z5r6l1plPfxz"
      },
      "outputs": [],
      "source": [
        "df.info()"
      ]
    },
    {
      "cell_type": "code",
      "source": [],
      "metadata": {
        "id": "8pyYrj2S_boF"
      },
      "execution_count": null,
      "outputs": []
    }
  ],
  "metadata": {
    "colab": {
      "provenance": []
    },
    "kernelspec": {
      "display_name": "Python 3",
      "name": "python3"
    },
    "language_info": {
      "name": "python"
    }
  },
  "nbformat": 4,
  "nbformat_minor": 0
}